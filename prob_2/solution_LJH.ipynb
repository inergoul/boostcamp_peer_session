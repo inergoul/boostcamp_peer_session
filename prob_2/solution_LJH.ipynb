{
 "cells": [
  {
   "cell_type": "markdown",
   "metadata": {},
   "source": [
    "### bitwise & shift 부분집합 생성"
   ]
  },
  {
   "cell_type": "code",
   "execution_count": 2,
   "metadata": {},
   "outputs": [
    {
     "name": "stdout",
     "output_type": "stream",
     "text": [
      " :[0, 0, 0]\n",
      "1  :[1, 0, 0]\n",
      "2  :[0, 1, 0]\n",
      "1 2  :[1, 1, 0]\n",
      "3  :[0, 0, 1]\n",
      "1 3  :[1, 0, 1]\n",
      "2 3  :[0, 1, 1]\n",
      "1 2 3  :[1, 1, 1]\n"
     ]
    }
   ],
   "source": [
    "numbers = [1,2,3]\n",
    "tmp = [0 for _ in range(3)]\n",
    "\n",
    "for i in range(1 << len(numbers)):\n",
    "    for j in range(len(numbers)):\n",
    "        if i & (1<<j):\n",
    "            tmp[j] = 1\n",
    "            print(numbers[j], end=' ')\n",
    "    print(f' :{tmp}')\n",
    "    tmp = [0 for _ in range(3)]"
   ]
  }
 ],
 "metadata": {
  "kernelspec": {
   "display_name": "Python 3",
   "language": "python",
   "name": "python3"
  },
  "language_info": {
   "codemirror_mode": {
    "name": "ipython",
    "version": 3
   },
   "file_extension": ".py",
   "mimetype": "text/x-python",
   "name": "python",
   "nbconvert_exporter": "python",
   "pygments_lexer": "ipython3",
   "version": "3.7.3"
  }
 },
 "nbformat": 4,
 "nbformat_minor": 2
}
